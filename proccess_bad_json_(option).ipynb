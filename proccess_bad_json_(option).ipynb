{
 "cells": [
  {
   "cell_type": "code",
   "execution_count": null,
   "id": "ecc928e9-02e8-47fc-af09-9ce4d9bc5f5f",
   "metadata": {},
   "outputs": [],
   "source": [
    "\"people\":[]"
   ]
  },
  {
   "cell_type": "code",
   "execution_count": 4,
   "id": "266256ff-61b8-4824-b7ae-ab26c7dca9d9",
   "metadata": {},
   "outputs": [],
   "source": [
    "import os\n",
    "e = 0\n",
    "for i in os.listdir(r\"C:\\TEST\\testv\\_json\"):\n",
    "    with open(r\"C:\\TEST\\testv\\_json\"+\"\\\\\"+i, \"r\", encoding=\"utf-8\") as f:\n",
    "        r = f.read()\n",
    "    if '\"people\":[]' in r:\n",
    "        continue\n",
    "    with open(r\"C:\\TEST\\testv\\json\"+\"\\\\\"+'1_%012d_keypoints.json'%e, \"w\", encoding=\"utf-8\") as f:\n",
    "        f.write(r)\n",
    "    e+=1"
   ]
  },
  {
   "cell_type": "code",
   "execution_count": 5,
   "id": "886d95b2-ecfa-4503-a318-dc8ed6f363e4",
   "metadata": {},
   "outputs": [],
   "source": [
    "# import os\n",
    "# e = 0\n",
    "# for i in os.listdir(r\"C:\\_json_3d_20251014_001234_idx01\\1\"):\n",
    "#     os.rename(r\"C:\\_json_3d_20251014_001234_idx01\\1\"+\"\\\\\"+i, r\"C:\\_json_3d_20251014_001234_idx01\\1\"+\"\\\\\"+str(e)+\".png\")\n",
    "#     e+=1"
   ]
  }
 ],
 "metadata": {
  "kernelspec": {
   "display_name": "Python 3 (ipykernel)",
   "language": "python",
   "name": "python3"
  },
  "language_info": {
   "codemirror_mode": {
    "name": "ipython",
    "version": 3
   },
   "file_extension": ".py",
   "mimetype": "text/x-python",
   "name": "python",
   "nbconvert_exporter": "python",
   "pygments_lexer": "ipython3",
   "version": "3.10.8"
  }
 },
 "nbformat": 4,
 "nbformat_minor": 5
}
